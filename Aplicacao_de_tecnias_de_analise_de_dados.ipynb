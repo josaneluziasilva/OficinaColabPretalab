{
  "nbformat": 4,
  "nbformat_minor": 0,
  "metadata": {
    "colab": {
      "provenance": [],
      "authorship_tag": "ABX9TyOHJykSs5muOZ/fvSZkgMWs",
      "include_colab_link": true
    },
    "kernelspec": {
      "name": "python3",
      "display_name": "Python 3"
    },
    "language_info": {
      "name": "python"
    }
  },
  "cells": [
    {
      "cell_type": "markdown",
      "metadata": {
        "id": "view-in-github",
        "colab_type": "text"
      },
      "source": [
        "<a href=\"https://colab.research.google.com/github/josaneluziasilva/OficinaColabPretalab/blob/main/Aplicacao_de_tecnias_de_analise_de_dados.ipynb\" target=\"_parent\"><img src=\"https://colab.research.google.com/assets/colab-badge.svg\" alt=\"Open In Colab\"/></a>"
      ]
    },
    {
      "cell_type": "code",
      "execution_count": 11,
      "metadata": {
        "colab": {
          "base_uri": "https://localhost:8080/"
        },
        "id": "Uo7LEItnicWk",
        "outputId": "50f3062e-bb3f-4a22-e8d1-ef84a0a740b6"
      },
      "outputs": [
        {
          "output_type": "stream",
          "name": "stdout",
          "text": [
            "Collecting spotipy\n",
            "  Downloading spotipy-2.24.0-py3-none-any.whl.metadata (4.9 kB)\n",
            "Collecting redis>=3.5.3 (from spotipy)\n",
            "  Downloading redis-5.1.1-py3-none-any.whl.metadata (9.1 kB)\n",
            "Requirement already satisfied: requests>=2.25.0 in /usr/local/lib/python3.10/dist-packages (from spotipy) (2.32.3)\n",
            "Requirement already satisfied: urllib3>=1.26.0 in /usr/local/lib/python3.10/dist-packages (from spotipy) (2.2.3)\n",
            "Requirement already satisfied: async-timeout>=4.0.3 in /usr/local/lib/python3.10/dist-packages (from redis>=3.5.3->spotipy) (4.0.3)\n",
            "Requirement already satisfied: charset-normalizer<4,>=2 in /usr/local/lib/python3.10/dist-packages (from requests>=2.25.0->spotipy) (3.4.0)\n",
            "Requirement already satisfied: idna<4,>=2.5 in /usr/local/lib/python3.10/dist-packages (from requests>=2.25.0->spotipy) (3.10)\n",
            "Requirement already satisfied: certifi>=2017.4.17 in /usr/local/lib/python3.10/dist-packages (from requests>=2.25.0->spotipy) (2024.8.30)\n",
            "Downloading spotipy-2.24.0-py3-none-any.whl (30 kB)\n",
            "Downloading redis-5.1.1-py3-none-any.whl (261 kB)\n",
            "\u001b[2K   \u001b[90m━━━━━━━━━━━━━━━━━━━━━━━━━━━━━━━━━━━━━━━━\u001b[0m \u001b[32m261.3/261.3 kB\u001b[0m \u001b[31m7.0 MB/s\u001b[0m eta \u001b[36m0:00:00\u001b[0m\n",
            "\u001b[?25hInstalling collected packages: redis, spotipy\n",
            "Successfully installed redis-5.1.1 spotipy-2.24.0\n"
          ]
        }
      ],
      "source": [
        "pip install spotipy"
      ]
    },
    {
      "cell_type": "code",
      "source": [
        "# Autenticação com as credenciais diretamente no código\n",
        "\n",
        "sp = spotipy.Spotify(client_credentials_manager=SpotifyClientCredentials(client_id=\"89fd04d69d40406682f708fc342d6b0f\", client_secret=\"e34f0bcfee6a46639b63195d106536a6\"))\n",
        "\n",
        "print('Autenticado com sucesso!')"
      ],
      "metadata": {
        "colab": {
          "base_uri": "https://localhost:8080/",
          "height": 265
        },
        "id": "MUgKzc-qiqa_",
        "outputId": "6194bed1-9ef4-489f-926b-797487e21e46"
      },
      "execution_count": 12,
      "outputs": [
        {
          "output_type": "error",
          "ename": "NameError",
          "evalue": "name 'spotipy' is not defined",
          "traceback": [
            "\u001b[0;31m---------------------------------------------------------------------------\u001b[0m",
            "\u001b[0;31mNameError\u001b[0m                                 Traceback (most recent call last)",
            "\u001b[0;32m<ipython-input-12-71f40d17ab26>\u001b[0m in \u001b[0;36m<cell line: 3>\u001b[0;34m()\u001b[0m\n\u001b[1;32m      1\u001b[0m \u001b[0;31m# Autenticação com as credenciais diretamente no código\u001b[0m\u001b[0;34m\u001b[0m\u001b[0;34m\u001b[0m\u001b[0m\n\u001b[1;32m      2\u001b[0m \u001b[0;34m\u001b[0m\u001b[0m\n\u001b[0;32m----> 3\u001b[0;31m \u001b[0msp\u001b[0m \u001b[0;34m=\u001b[0m \u001b[0mspotipy\u001b[0m\u001b[0;34m.\u001b[0m\u001b[0mSpotify\u001b[0m\u001b[0;34m(\u001b[0m\u001b[0mclient_credentials_manager\u001b[0m\u001b[0;34m=\u001b[0m\u001b[0mSpotifyClientCredentials\u001b[0m\u001b[0;34m(\u001b[0m\u001b[0mclient_id\u001b[0m\u001b[0;34m=\u001b[0m\u001b[0;34m\"89fd04d69d40406682f708fc342d6b0f\"\u001b[0m\u001b[0;34m,\u001b[0m \u001b[0mclient_secret\u001b[0m\u001b[0;34m=\u001b[0m\u001b[0;34m\"e34f0bcfee6a46639b63195d106536a6\"\u001b[0m\u001b[0;34m)\u001b[0m\u001b[0;34m)\u001b[0m\u001b[0;34m\u001b[0m\u001b[0;34m\u001b[0m\u001b[0m\n\u001b[0m\u001b[1;32m      4\u001b[0m \u001b[0;34m\u001b[0m\u001b[0m\n\u001b[1;32m      5\u001b[0m \u001b[0mprint\u001b[0m\u001b[0;34m(\u001b[0m\u001b[0;34m'Autenticado com sucesso!'\u001b[0m\u001b[0;34m)\u001b[0m\u001b[0;34m\u001b[0m\u001b[0;34m\u001b[0m\u001b[0m\n",
            "\u001b[0;31mNameError\u001b[0m: name 'spotipy' is not defined"
          ]
        }
      ]
    },
    {
      "cell_type": "code",
      "source": [
        "import spotipy\n",
        "from spotipy.oauth2  import SpotifyClientCredentials\n",
        "import os\n",
        "\n",
        "# Configure suas credenciais\n",
        "\n",
        "os.environ['SPOTIPY_CLIENT_ID'] = '89fd04d69d40406682f708fc342d6b0f'\n",
        "os.environ['SPOTIPY_CLIENT_SECRET'] = 'e34f0bcfee6a46639b63195d106536a6'\n",
        "\n",
        "# Autenticação\n",
        "\n",
        "sp = spotipy.Spotify(client_credentials_manager=SpotifyClientCredentials())\n",
        "\n",
        "print('Autenticado com sucesso!')"
      ],
      "metadata": {
        "colab": {
          "base_uri": "https://localhost:8080/"
        },
        "id": "707SyjNjjji7",
        "outputId": "7315463a-cc3b-458a-8fa6-13d1e3c38c6c"
      },
      "execution_count": 29,
      "outputs": [
        {
          "output_type": "stream",
          "name": "stdout",
          "text": [
            "Autenticado com sucesso!\n"
          ]
        }
      ]
    },
    {
      "cell_type": "code",
      "source": [
        "#informação de Artista\n",
        "\n",
        "results = sp.search(q='Linkin Park', type='artist')\n",
        "artist = results['artists']['items'][0]\n",
        "print(f\"Nome: {artist['name']}\")\n",
        "print(f\"Popularidade: {artist['popularity']}\")\n",
        "print(f\"Gêneros: {', ' .join(artist['genres'])}\")"
      ],
      "metadata": {
        "colab": {
          "base_uri": "https://localhost:8080/"
        },
        "id": "FJ0vVw5bi12U",
        "outputId": "03713fd8-7059-4279-a406-21716263fb7b"
      },
      "execution_count": 30,
      "outputs": [
        {
          "output_type": "stream",
          "name": "stdout",
          "text": [
            "Nome: Linkin Park\n",
            "Popularidade: 92\n",
            "Gêneros: alternative metal, nu metal, post-grunge, rap metal, rock\n"
          ]
        }
      ]
    },
    {
      "cell_type": "code",
      "source": [
        "artist_id = artist['id']\n",
        "top_tracks = sp.artist_top_tracks(artist_id)\n",
        "\n",
        "for track in top_tracks['tracks']:\n",
        "  print(f\"Música: {track['name']}, Popularidade {track['popularity']}\")"
      ],
      "metadata": {
        "colab": {
          "base_uri": "https://localhost:8080/"
        },
        "id": "o6nskTutpqsL",
        "outputId": "a09a8e35-be41-4764-f966-3a3508ba490a"
      },
      "execution_count": 31,
      "outputs": [
        {
          "output_type": "stream",
          "name": "stdout",
          "text": [
            "Música: The Emptiness Machine, Popularidade 92\n",
            "Música: Numb, Popularidade 88\n",
            "Música: In the End, Popularidade 87\n",
            "Música: Heavy Is the Crown, Popularidade 88\n",
            "Música: Faint, Popularidade 85\n",
            "Música: One Step Closer, Popularidade 84\n",
            "Música: What I've Done, Popularidade 82\n",
            "Música: Bleed It Out, Popularidade 81\n",
            "Música: Somewhere I Belong, Popularidade 71\n",
            "Música: Crawling, Popularidade 81\n"
          ]
        }
      ]
    },
    {
      "cell_type": "code",
      "source": [
        "def get_artist_id(artist_name):\n",
        "    results = sp.search(q=artist_name, type='artist')\n",
        "    if results['artists']['items']:\n",
        "        return results['artists']['items'][0]['id']\n",
        "    else:\n",
        "        return None\n",
        "\n",
        "def get_artist_top_tracks(artist_name):\n",
        "    artist_id = get_artist_id(artist_name)\n",
        "    if artist_id:\n",
        "        # Obtém as 10 músicas mais populares do artista\n",
        "        top_tracks = sp.artist_top_tracks(artist_id)\n",
        "        print(f\"Top músicas de {artist_name}:\")\n",
        "        for track in top_tracks['tracks']:\n",
        "            print(f\"Nome: {track['name']}\")\n",
        "            print(f\"Popularidade: {track['popularity']}\")\n",
        "            print(f\"Duração: {track['duration_ms'] / 1000} segundos\")\n",
        "            print(f\"Link: {track['external_urls']['spotify']}\")\n",
        "            print('-' * 30)\n",
        "    else:\n",
        "        print(f\"Artista '{artist_name}' não encontrado.\")\n",
        "\n",
        "# Exemplo de uso\n",
        "\n",
        "get_artist_top_tracks('Linkin Park')"
      ],
      "metadata": {
        "colab": {
          "base_uri": "https://localhost:8080/"
        },
        "id": "IoCnwlwLqTcB",
        "outputId": "6b19136f-c91b-4e5c-d2ee-39e1dc4f616f"
      },
      "execution_count": 32,
      "outputs": [
        {
          "output_type": "stream",
          "name": "stdout",
          "text": [
            "Top músicas de Linkin Park:\n",
            "Nome: The Emptiness Machine\n",
            "Popularidade: 92\n",
            "Duração: 190.427 segundos\n",
            "Link: https://open.spotify.com/track/2PnlsTsOTLE5jnBnNe2K0A\n",
            "------------------------------\n",
            "Nome: Numb\n",
            "Popularidade: 88\n",
            "Duração: 187.52 segundos\n",
            "Link: https://open.spotify.com/track/2nLtzopw4rPReszdYBJU6h\n",
            "------------------------------\n",
            "Nome: In the End\n",
            "Popularidade: 87\n",
            "Duração: 216.88 segundos\n",
            "Link: https://open.spotify.com/track/60a0Rd6pjrkxjPbaKzXjfq\n",
            "------------------------------\n",
            "Nome: Heavy Is the Crown\n",
            "Popularidade: 88\n",
            "Duração: 167.012 segundos\n",
            "Link: https://open.spotify.com/track/3fgehc497TFqKH1zBL2YNK\n",
            "------------------------------\n",
            "Nome: Faint\n",
            "Popularidade: 85\n",
            "Duração: 162.106 segundos\n",
            "Link: https://open.spotify.com/track/4Yf5bqU3NK4kNOypcrLYwU\n",
            "------------------------------\n",
            "Nome: One Step Closer\n",
            "Popularidade: 84\n",
            "Duração: 157.333 segundos\n",
            "Link: https://open.spotify.com/track/3K4HG9evC7dg3N0R9cYqk4\n",
            "------------------------------\n",
            "Nome: What I've Done\n",
            "Popularidade: 82\n",
            "Duração: 205.226 segundos\n",
            "Link: https://open.spotify.com/track/18lR4BzEs7e3qzc0KVkTpU\n",
            "------------------------------\n",
            "Nome: Bleed It Out\n",
            "Popularidade: 81\n",
            "Duração: 164.426 segundos\n",
            "Link: https://open.spotify.com/track/0UFDKFqW2oGspYeYqo9wjA\n",
            "------------------------------\n",
            "Nome: Somewhere I Belong\n",
            "Popularidade: 71\n",
            "Duração: 213.933 segundos\n",
            "Link: https://open.spotify.com/track/3agtg0x11wPvLIWkYR39nZ\n",
            "------------------------------\n",
            "Nome: Crawling\n",
            "Popularidade: 81\n",
            "Duração: 208.96 segundos\n",
            "Link: https://open.spotify.com/track/57BrRMwf9LrcmuOsyGilwr\n",
            "------------------------------\n"
          ]
        }
      ]
    },
    {
      "cell_type": "code",
      "source": [
        "#Obter Listas de Reprodução Populares\n",
        "\n",
        "def get_playlists_for_artist(artist_name):\n",
        "    artist_id = get_artist_id(artist_name)\n",
        "    if artist_id:\n",
        "        results = sp.search(q=artist_name, type='playlist')\n",
        "        print(f\"Playlists com músicas de {artist_name}:\")\n",
        "        for playlist in results['playlists']['items']:\n",
        "            print(f\"Nome da Playlist: {playlist['name']}\")\n",
        "            print(f\"Total de músicas: {playlist['tracks']['total']}\")\n",
        "            print(f\"Link: {playlist['external_urls']['spotify']}\")\n",
        "            print('-' * 30)\n",
        "    else:\n",
        "        print(f\"Artista '{artist_name}' não encontrado.\")\n",
        "\n",
        "# Exemplo de uso\n",
        "\n",
        "get_playlists_for_artist('Linkin Park')"
      ],
      "metadata": {
        "colab": {
          "base_uri": "https://localhost:8080/"
        },
        "id": "DILbqDAgsImr",
        "outputId": "865b3ff5-d7f7-4524-8eb9-aa3ff48923af"
      },
      "execution_count": 33,
      "outputs": [
        {
          "output_type": "stream",
          "name": "stdout",
          "text": [
            "Playlists com músicas de Linkin Park:\n",
            "Nome da Playlist: Linkin Park Greatest Hits\n",
            "Total de músicas: 20\n",
            "Link: https://open.spotify.com/playlist/0aoCbwrqubaRzYJYZXYcBt\n",
            "------------------------------\n",
            "Nome da Playlist: This Is Linkin Park\n",
            "Total de músicas: 50\n",
            "Link: https://open.spotify.com/playlist/37i9dQZF1DZ06evO47cwRq\n",
            "------------------------------\n",
            "Nome da Playlist: Linkin Park Radio\n",
            "Total de músicas: 50\n",
            "Link: https://open.spotify.com/playlist/37i9dQZF1E4AInqF1aqV85\n",
            "------------------------------\n",
            "Nome da Playlist: 00s Rock Anthems\n",
            "Total de músicas: 100\n",
            "Link: https://open.spotify.com/playlist/37i9dQZF1DX3oM43CtKnRV\n",
            "------------------------------\n",
            "Nome da Playlist: All Linkin Park songs\n",
            "Total de músicas: 68\n",
            "Link: https://open.spotify.com/playlist/4jcMT76XKbYnQS1VC8JxyO\n",
            "------------------------------\n",
            "Nome da Playlist: Linkin Park Mix\n",
            "Total de músicas: 50\n",
            "Link: https://open.spotify.com/playlist/37i9dQZF1EIYWwGqC3GC7o\n",
            "------------------------------\n",
            "Nome da Playlist: LINKIN PARK - GREATEST HITS VOL. 1\n",
            "Total de músicas: 21\n",
            "Link: https://open.spotify.com/playlist/4wcFpyhuhCX803Xyg003BO\n",
            "------------------------------\n",
            "Nome da Playlist: Linkin Park Complete Playlist\n",
            "Total de músicas: 414\n",
            "Link: https://open.spotify.com/playlist/0K2lMJpZQGa9TSUiQalafs\n",
            "------------------------------\n",
            "Nome da Playlist: The Best Of... Linkin Park\n",
            "Total de músicas: 53\n",
            "Link: https://open.spotify.com/playlist/44dwGFz4WIE9N9BhwWCYr9\n",
            "------------------------------\n",
            "Nome da Playlist: Linkin Park old - BEST OF\n",
            "Total de músicas: 28\n",
            "Link: https://open.spotify.com/playlist/5ellJFjQ2XeneKv2mq1lZa\n",
            "------------------------------\n"
          ]
        }
      ]
    },
    {
      "cell_type": "code",
      "source": [
        "#Obter Estatísticas de Áudio das Músicas\n",
        "\n",
        "def get_audio_features(track_id):\n",
        "    try:\n",
        "        # Obtém as features da música\n",
        "        audio_features = sp.audio_features(track_id)\n",
        "        if audio_features:\n",
        "            features = audio_features[0]\n",
        "            print(f\"Features da música ID {track_id}:\")\n",
        "            print(f\"Valência: {features['valence']}\")\n",
        "            print(f\"Tempo: {features['tempo']}\")\n",
        "            print(f\"Acousticidade: {features['acousticness']}\")\n",
        "            print(f\"Instrumentalidade: {features['instrumentalness']}\")\n",
        "            print(f\"Dançabilidade: {features['danceability']}\")\n",
        "            print(f\"Link: {features['track_href']}\")\n",
        "        else:\n",
        "            print(f\"Nenhuma feature encontrada para o ID {track_id}\")\n",
        "    except Exception as e:\n",
        "        print(f\"Erro ao obter as features: {e}\")"
      ],
      "metadata": {
        "id": "lEpj_LmescCh"
      },
      "execution_count": 34,
      "outputs": []
    },
    {
      "cell_type": "code",
      "source": [
        "# Teste com o ID da música\n",
        "top_track_id = 'https://open.spotify.com/intl-pt/track/2PnlsTsOTLE5jnBnNe2K0A?si=c37a003ce6bb477b'  # Substitua pelo ID da música correta\n",
        "get_audio_features(top_track_id)"
      ],
      "metadata": {
        "colab": {
          "base_uri": "https://localhost:8080/"
        },
        "id": "v-YD0p6es8Mw",
        "outputId": "0fef0cbb-b3d4-4d0e-8ac4-ee6285a8419d"
      },
      "execution_count": 35,
      "outputs": [
        {
          "output_type": "stream",
          "name": "stdout",
          "text": [
            "Features da música ID https://open.spotify.com/intl-pt/track/2PnlsTsOTLE5jnBnNe2K0A?si=c37a003ce6bb477b:\n",
            "Valência: 0.806\n",
            "Tempo: 184.115\n",
            "Acousticidade: 0.0156\n",
            "Instrumentalidade: 0\n",
            "Dançabilidade: 0.466\n",
            "Link: https://api.spotify.com/v1/tracks/2PnlsTsOTLE5jnBnNe2K0A\n"
          ]
        }
      ]
    },
    {
      "cell_type": "code",
      "source": [
        "# Teste com o ID da música\n",
        "top_track_id = 'https://open.spotify.com/intl-pt/track/2nLtzopw4rPReszdYBJU6h?si=4c3b3ec04de542f0'  # Substitua pelo ID da música correta\n",
        "get_audio_features(top_track_id)"
      ],
      "metadata": {
        "colab": {
          "base_uri": "https://localhost:8080/"
        },
        "id": "UOznCbHJuPBX",
        "outputId": "893c68bb-55f4-4d28-ce20-305d2a8801ce"
      },
      "execution_count": 36,
      "outputs": [
        {
          "output_type": "stream",
          "name": "stdout",
          "text": [
            "Features da música ID https://open.spotify.com/intl-pt/track/2nLtzopw4rPReszdYBJU6h?si=4c3b3ec04de542f0:\n",
            "Valência: 0.211\n",
            "Tempo: 110.072\n",
            "Acousticidade: 0.00353\n",
            "Instrumentalidade: 0\n",
            "Dançabilidade: 0.488\n",
            "Link: https://api.spotify.com/v1/tracks/2nLtzopw4rPReszdYBJU6h\n"
          ]
        }
      ]
    },
    {
      "cell_type": "code",
      "source": [
        "import pandas as pd\n",
        "\n",
        "df_todas_tracks = pd.DataFrame(data)\n",
        "artist_name = 'Linkin Park'\n",
        "\n",
        "# Calculando a média de popularidade\n",
        "media_popularidade = df_todas_tracks['Popularidade'].mean()\n",
        "print(f\"A média de popularidade das músicas do {artist_name} é: {media_popularidade}\")\n",
        "# Mostra o DataFrame para verificação\n",
        "print(df_todas_tracks)"
      ],
      "metadata": {
        "colab": {
          "base_uri": "https://localhost:8080/",
          "height": 211
        },
        "id": "H-6Zw3HEua2U",
        "outputId": "08abd4cc-2c6e-42b1-ddfa-2477822057d3"
      },
      "execution_count": 39,
      "outputs": [
        {
          "output_type": "error",
          "ename": "NameError",
          "evalue": "name 'data' is not defined",
          "traceback": [
            "\u001b[0;31m---------------------------------------------------------------------------\u001b[0m",
            "\u001b[0;31mNameError\u001b[0m                                 Traceback (most recent call last)",
            "\u001b[0;32m<ipython-input-39-4a03ef8bbbb9>\u001b[0m in \u001b[0;36m<cell line: 3>\u001b[0;34m()\u001b[0m\n\u001b[1;32m      1\u001b[0m \u001b[0;32mimport\u001b[0m \u001b[0mpandas\u001b[0m \u001b[0;32mas\u001b[0m \u001b[0mpd\u001b[0m\u001b[0;34m\u001b[0m\u001b[0;34m\u001b[0m\u001b[0m\n\u001b[1;32m      2\u001b[0m \u001b[0;34m\u001b[0m\u001b[0m\n\u001b[0;32m----> 3\u001b[0;31m \u001b[0mdf_todas_tracks\u001b[0m \u001b[0;34m=\u001b[0m \u001b[0mpd\u001b[0m\u001b[0;34m.\u001b[0m\u001b[0mDataFrame\u001b[0m\u001b[0;34m(\u001b[0m\u001b[0mdata\u001b[0m\u001b[0;34m)\u001b[0m\u001b[0;34m\u001b[0m\u001b[0;34m\u001b[0m\u001b[0m\n\u001b[0m\u001b[1;32m      4\u001b[0m \u001b[0martist_name\u001b[0m \u001b[0;34m=\u001b[0m \u001b[0;34m'Linkin Park'\u001b[0m\u001b[0;34m\u001b[0m\u001b[0;34m\u001b[0m\u001b[0m\n\u001b[1;32m      5\u001b[0m \u001b[0;34m\u001b[0m\u001b[0m\n",
            "\u001b[0;31mNameError\u001b[0m: name 'data' is not defined"
          ]
        }
      ]
    },
    {
      "cell_type": "markdown",
      "source": [],
      "metadata": {
        "id": "jS0yA_wWtxcZ"
      }
    }
  ]
}