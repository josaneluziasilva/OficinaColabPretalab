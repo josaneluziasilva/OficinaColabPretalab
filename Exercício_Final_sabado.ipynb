{
  "nbformat": 4,
  "nbformat_minor": 0,
  "metadata": {
    "colab": {
      "provenance": [],
      "include_colab_link": true
    },
    "kernelspec": {
      "name": "python3",
      "display_name": "Python 3"
    },
    "language_info": {
      "name": "python"
    }
  },
  "cells": [
    {
      "cell_type": "markdown",
      "metadata": {
        "id": "view-in-github",
        "colab_type": "text"
      },
      "source": [
        "<a href=\"https://colab.research.google.com/github/josaneluziasilva/OficinaColabPretalab/blob/main/Exerc%C3%ADcio_Final_sabado.ipynb\" target=\"_parent\"><img src=\"https://colab.research.google.com/assets/colab-badge.svg\" alt=\"Open In Colab\"/></a>"
      ]
    },
    {
      "cell_type": "markdown",
      "source": [
        "# Contagem de Medalhas\n",
        "\n",
        "Crie um programa que receba o número de medalhas de ouro, prata e bronze de um país nas Olimpíadas e calcule o total de medalhas.\n",
        "Quando escrever 'sair', o programa deverá encerrar e mostrar na tela o ranking de medalhas no formato:"
      ],
      "metadata": {
        "id": "RQN1e5FZY6SZ"
      }
    },
    {
      "cell_type": "code",
      "source": [
        "#Ranking de medalhas:\n",
        "#Brasil: 7 medalhas\n",
        "#França: 6 medalhas\n",
        "#Argentina: 3 medalhas"
      ],
      "metadata": {
        "id": "gCq_KLHzZSzb"
      },
      "execution_count": null,
      "outputs": []
    },
    {
      "cell_type": "code",
      "execution_count": 2,
      "metadata": {
        "id": "AJJhjxiPTd5s",
        "colab": {
          "base_uri": "https://localhost:8080/"
        },
        "outputId": "cc2e6ff4-1076-440c-d038-665d5e4ed0e3"
      },
      "outputs": [
        {
          "output_type": "stream",
          "name": "stdout",
          "text": [
            "Digite o nome do país (ou sair para encerrar): Sudão do Sul\n",
            "Digite o número de medalhas de ouro: 1\n",
            "Digite o número de medalhas de prata: 2\n",
            "Digite o número de medalhas de bronze: 3\n",
            "{'pais': 'Sudão do Sul', 'ouro': '1', 'prata': '2', 'bronze': '3'}\n"
          ]
        }
      ],
      "source": [
        "# Resposta aqui\n",
        "\n",
        "pais = input('Digite o nome do país (ou ''sair'' para encerrar): ')\n",
        "ouro = input('Digite o número de medalhas de ouro: ')\n",
        "prata = input('Digite o número de medalhas de prata: ')\n",
        "bronze = input('Digite o número de medalhas de bronze: ')\n",
        "olimpiadas = {'pais': pais, 'ouro': int(ouro), 'prata': int(prata), 'bronze': int(bronze)}\n",
        "medalhas = olimpiadas['ouro']+olimpiadas['prata']+olimpiadas['bronze']\n",
        "print('Ranking de medalhas ')\n",
        "print(olimpiadas['pais'] + ': ' + str(medalhas) + ' medalhas')"
      ]
    },
    {
      "cell_type": "code",
      "source": [
        "# Resposta aqui\n",
        "p = 'inicio'\n",
        "while p != 'sair':\n",
        "  pais = input('Digite o nome do país (ou ''sair'' para encerrar): ')\n",
        "  if pais != 'sair':\n",
        "    ouro = input('Digite o número de medalhas de ouro: ')\n",
        "    prata = input('Digite o número de medalhas de prata: ')\n",
        "    bronze = input('Digite o número de medalhas de bronze: ')\n",
        "    olimpiadas = {'pais': pais, 'ouro': int(ouro), 'prata': int(prata), 'bronze': int(bronze)}\n",
        "    p = pais\n",
        "  p = pais\n",
        "medalhas = olimpiadas['ouro']+olimpiadas['prata']+olimpiadas['bronze']\n",
        "print('Ranking de medalhas ')\n",
        "print(olimpiadas['pais'] + ': ' + str(medalhas) + ' medalhas')"
      ],
      "metadata": {
        "colab": {
          "base_uri": "https://localhost:8080/"
        },
        "id": "WqxIXZk-6Dww",
        "outputId": "3aa5338a-a86e-4d12-d1f0-c04227cbaa97"
      },
      "execution_count": 46,
      "outputs": [
        {
          "output_type": "stream",
          "name": "stdout",
          "text": [
            "Digite o nome do país (ou sair para encerrar): Brasil\n",
            "Digite o número de medalhas de ouro: 1\n",
            "Digite o número de medalhas de prata: 2\n",
            "Digite o número de medalhas de bronze: 3\n",
            "Digite o nome do país (ou sair para encerrar): sair\n",
            "Ranking de medalhas \n",
            "Brasil: 6 medalhas\n"
          ]
        }
      ]
    },
    {
      "cell_type": "code",
      "source": [
        "6"
      ],
      "metadata": {
        "id": "YFlotyqwAR93"
      },
      "execution_count": null,
      "outputs": []
    }
  ]
}