{
  "nbformat": 4,
  "nbformat_minor": 0,
  "metadata": {
    "colab": {
      "provenance": [],
      "include_colab_link": true
    },
    "kernelspec": {
      "name": "python3",
      "display_name": "Python 3"
    },
    "language_info": {
      "name": "python"
    }
  },
  "cells": [
    {
      "cell_type": "markdown",
      "metadata": {
        "id": "view-in-github",
        "colab_type": "text"
      },
      "source": [
        "<a href=\"https://colab.research.google.com/github/josaneluziasilva/OficinaColabPretalab/blob/main/Exerc%C3%ADcio_Final_sabado.ipynb\" target=\"_parent\"><img src=\"https://colab.research.google.com/assets/colab-badge.svg\" alt=\"Open In Colab\"/></a>"
      ]
    },
    {
      "cell_type": "markdown",
      "source": [
        "# Contagem de Medalhas\n",
        "\n",
        "Crie um programa que receba o número de medalhas de ouro, prata e bronze de um país nas Olimpíadas e calcule o total de medalhas.\n",
        "Quando escrever 'sair', o programa deverá encerrar e mostrar na tela o ranking de medalhas no formato:"
      ],
      "metadata": {
        "id": "RQN1e5FZY6SZ"
      }
    },
    {
      "cell_type": "code",
      "source": [
        "#Ranking de medalhas:\n",
        "#Brasil: 7 medalhas\n",
        "#França: 6 medalhas\n",
        "#Argentina: 3 medalhas"
      ],
      "metadata": {
        "id": "gCq_KLHzZSzb"
      },
      "execution_count": null,
      "outputs": []
    },
    {
      "cell_type": "code",
      "source": [
        "# Resposta aqui\n",
        "p = 'inicio'\n",
        "while p != 'sair':\n",
        "  pais = input('Digite o nome do país (ou ''sair'' para encerrar): ')\n",
        "  if pais != 'sair':\n",
        "    ouro = input('Digite o número de medalhas de ouro: ')\n",
        "    prata = input('Digite o número de medalhas de prata: ')\n",
        "    bronze = input('Digite o número de medalhas de bronze: ')\n",
        "    olimpiadas = {'pais': pais, 'ouro': int(ouro), 'prata': int(prata), 'bronze': int(bronze)}\n",
        "    p = pais\n",
        "  p = pais\n",
        "medalhas = olimpiadas['ouro']+olimpiadas['prata']+olimpiadas['bronze']\n",
        "print(' ')\n",
        "print('#Ranking de medalhas ')\n",
        "print('#'+olimpiadas['pais'] + ': ' + str(medalhas) + ' medalhas')"
      ],
      "metadata": {
        "colab": {
          "base_uri": "https://localhost:8080/"
        },
        "id": "WqxIXZk-6Dww",
        "outputId": "3edb624b-5958-4e84-8e73-48f02b1401b5"
      },
      "execution_count": 48,
      "outputs": [
        {
          "output_type": "stream",
          "name": "stdout",
          "text": [
            "Digite o nome do país (ou sair para encerrar): Nigeria\n",
            "Digite o número de medalhas de ouro: 4\n",
            "Digite o número de medalhas de prata: 5\n",
            "Digite o número de medalhas de bronze: 6\n",
            "Digite o nome do país (ou sair para encerrar): sair\n",
            " \n",
            "#Ranking de medalhas \n",
            "#Nigeria: 15 medalhas\n"
          ]
        }
      ]
    }
  ]
}